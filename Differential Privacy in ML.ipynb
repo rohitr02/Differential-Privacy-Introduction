{
 "cells": [
  {
   "cell_type": "markdown",
   "metadata": {},
   "source": [
    "# Differentially Private ML\n",
    "\n",
    "The idea for this document is to explore building differentially private machine learning classifiers. Specifically, we will focus on a supervised learning problem: given labeled training samples $\\{(x_1, y_1), \\ldots, (x_n, y_n)\\}$, we want to learn a classifier $f$ that can predict the label $y$ for a new sample $x$. We will focus on the case where $y$ is binary, i.e. $y \\in \\{0, 1\\}$."
   ]
  },
  {
   "cell_type": "markdown",
   "metadata": {},
   "source": [
    "# Logistic Regression\n"
   ]
  },
  {
   "cell_type": "code",
   "execution_count": null,
   "metadata": {},
   "outputs": [],
   "source": []
  }
 ],
 "metadata": {
  "language_info": {
   "name": "python"
  },
  "orig_nbformat": 4
 },
 "nbformat": 4,
 "nbformat_minor": 2
}
